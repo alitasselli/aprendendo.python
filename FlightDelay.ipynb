{
  "nbformat": 4,
  "nbformat_minor": 0,
  "metadata": {
    "colab": {
      "name": "FlightDelay-OFICIAL!.ipynb",
      "provenance": [],
      "collapsed_sections": []
    },
    "kernelspec": {
      "name": "python3",
      "display_name": "Python 3"
    },
    "language_info": {
      "name": "python"
    }
  },
  "cells": [
    {
      "cell_type": "code",
      "metadata": {
        "id": "ArVIopK44l8s"
      },
      "source": [
        "import pandas as pd\n",
        "import numpy as np\n",
        "from numpy import reshape\n",
        "from sklearn.linear_model import LinearRegression\n",
        "from sklearn import metrics, svm\n",
        "from sklearn.linear_model import LogisticRegression\n",
        "from sklearn import preprocessing\n",
        "from sklearn import utils\n",
        "import math \n",
        "import datetime\n",
        "import matplotlib.pyplot as plt\n",
        "from sklearn.model_selection import train_test_split, GridSearchCV\n",
        "from sklearn.linear_model import LinearRegression \n",
        "from sklearn.metrics import mean_squared_error, r2_score\n",
        "from sklearn.preprocessing import MinMaxScaler \n",
        "from sklearn.neighbors import KNeighborsClassifier\n",
        "from math import sqrt\n",
        "from sklearn.metrics import accuracy_score\n",
        "from sklearn.preprocessing import StandardScaler\n",
        "from sklearn.model_selection import cross_val_score, cross_validate, cross_val_predict\n",
        "from sklearn.preprocessing import LabelEncoder\n",
        "from sklearn.tree import DecisionTreeRegressor\n"
      ],
      "execution_count": 110,
      "outputs": []
    },
    {
      "cell_type": "code",
      "metadata": {
        "colab": {
          "resources": {
            "http://localhost:8080/nbextensions/google.colab/files.js": {
              "data": "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",
              "ok": true,
              "headers": [
                [
                  "content-type",
                  "application/javascript"
                ]
              ],
              "status": 200,
              "status_text": ""
            }
          },
          "base_uri": "https://localhost:8080/",
          "height": 73
        },
        "id": "OndMmrY34s8d",
        "outputId": "8a723096-b591-4d4e-c913-ab97b2d64995"
      },
      "source": [
        "from google.colab import files \n",
        "uploaded = files.upload()"
      ],
      "execution_count": 111,
      "outputs": [
        {
          "output_type": "display_data",
          "data": {
            "text/html": [
              "\n",
              "     <input type=\"file\" id=\"files-4f3a5ed2-2c0d-40df-88dc-c5d9a6d3f5d5\" name=\"files[]\" multiple disabled\n",
              "        style=\"border:none\" />\n",
              "     <output id=\"result-4f3a5ed2-2c0d-40df-88dc-c5d9a6d3f5d5\">\n",
              "      Upload widget is only available when the cell has been executed in the\n",
              "      current browser session. Please rerun this cell to enable.\n",
              "      </output>\n",
              "      <script src=\"/nbextensions/google.colab/files.js\"></script> "
            ],
            "text/plain": [
              "<IPython.core.display.HTML object>"
            ]
          },
          "metadata": {
            "tags": []
          }
        },
        {
          "output_type": "stream",
          "text": [
            "Saving flight_delays_test.csv to flight_delays_test (4).csv\n"
          ],
          "name": "stdout"
        }
      ]
    },
    {
      "cell_type": "code",
      "metadata": {
        "colab": {
          "base_uri": "https://localhost:8080/"
        },
        "id": "1HE2eFyfBaBC",
        "outputId": "cd5a8acf-8fec-42d4-ffc6-eeda47ba2edf"
      },
      "source": [
        "test.shape"
      ],
      "execution_count": 112,
      "outputs": [
        {
          "output_type": "execute_result",
          "data": {
            "text/plain": [
              "(100000, 8)"
            ]
          },
          "metadata": {
            "tags": []
          },
          "execution_count": 112
        }
      ]
    },
    {
      "cell_type": "code",
      "metadata": {
        "colab": {
          "base_uri": "https://localhost:8080/",
          "height": 419
        },
        "id": "VOmXJkz94uso",
        "outputId": "b78388a5-bb56-4726-d00e-5470511429f6"
      },
      "source": [
        "test = pd.read_csv(\"flight_delays_test.csv\")\n",
        "test"
      ],
      "execution_count": 113,
      "outputs": [
        {
          "output_type": "execute_result",
          "data": {
            "text/html": [
              "<div>\n",
              "<style scoped>\n",
              "    .dataframe tbody tr th:only-of-type {\n",
              "        vertical-align: middle;\n",
              "    }\n",
              "\n",
              "    .dataframe tbody tr th {\n",
              "        vertical-align: top;\n",
              "    }\n",
              "\n",
              "    .dataframe thead th {\n",
              "        text-align: right;\n",
              "    }\n",
              "</style>\n",
              "<table border=\"1\" class=\"dataframe\">\n",
              "  <thead>\n",
              "    <tr style=\"text-align: right;\">\n",
              "      <th></th>\n",
              "      <th>Month</th>\n",
              "      <th>DayofMonth</th>\n",
              "      <th>DayOfWeek</th>\n",
              "      <th>DepTime</th>\n",
              "      <th>UniqueCarrier</th>\n",
              "      <th>Origin</th>\n",
              "      <th>Dest</th>\n",
              "      <th>Distance</th>\n",
              "    </tr>\n",
              "  </thead>\n",
              "  <tbody>\n",
              "    <tr>\n",
              "      <th>0</th>\n",
              "      <td>c-7</td>\n",
              "      <td>c-25</td>\n",
              "      <td>c-3</td>\n",
              "      <td>615</td>\n",
              "      <td>YV</td>\n",
              "      <td>MRY</td>\n",
              "      <td>PHX</td>\n",
              "      <td>598</td>\n",
              "    </tr>\n",
              "    <tr>\n",
              "      <th>1</th>\n",
              "      <td>c-4</td>\n",
              "      <td>c-17</td>\n",
              "      <td>c-2</td>\n",
              "      <td>739</td>\n",
              "      <td>WN</td>\n",
              "      <td>LAS</td>\n",
              "      <td>HOU</td>\n",
              "      <td>1235</td>\n",
              "    </tr>\n",
              "    <tr>\n",
              "      <th>2</th>\n",
              "      <td>c-12</td>\n",
              "      <td>c-2</td>\n",
              "      <td>c-7</td>\n",
              "      <td>651</td>\n",
              "      <td>MQ</td>\n",
              "      <td>GSP</td>\n",
              "      <td>ORD</td>\n",
              "      <td>577</td>\n",
              "    </tr>\n",
              "    <tr>\n",
              "      <th>3</th>\n",
              "      <td>c-3</td>\n",
              "      <td>c-25</td>\n",
              "      <td>c-7</td>\n",
              "      <td>1614</td>\n",
              "      <td>WN</td>\n",
              "      <td>BWI</td>\n",
              "      <td>MHT</td>\n",
              "      <td>377</td>\n",
              "    </tr>\n",
              "    <tr>\n",
              "      <th>4</th>\n",
              "      <td>c-6</td>\n",
              "      <td>c-6</td>\n",
              "      <td>c-3</td>\n",
              "      <td>1505</td>\n",
              "      <td>UA</td>\n",
              "      <td>ORD</td>\n",
              "      <td>STL</td>\n",
              "      <td>258</td>\n",
              "    </tr>\n",
              "    <tr>\n",
              "      <th>...</th>\n",
              "      <td>...</td>\n",
              "      <td>...</td>\n",
              "      <td>...</td>\n",
              "      <td>...</td>\n",
              "      <td>...</td>\n",
              "      <td>...</td>\n",
              "      <td>...</td>\n",
              "      <td>...</td>\n",
              "    </tr>\n",
              "    <tr>\n",
              "      <th>99995</th>\n",
              "      <td>c-6</td>\n",
              "      <td>c-5</td>\n",
              "      <td>c-2</td>\n",
              "      <td>852</td>\n",
              "      <td>WN</td>\n",
              "      <td>CRP</td>\n",
              "      <td>HOU</td>\n",
              "      <td>187</td>\n",
              "    </tr>\n",
              "    <tr>\n",
              "      <th>99996</th>\n",
              "      <td>c-11</td>\n",
              "      <td>c-24</td>\n",
              "      <td>c-6</td>\n",
              "      <td>1446</td>\n",
              "      <td>UA</td>\n",
              "      <td>ORD</td>\n",
              "      <td>LAS</td>\n",
              "      <td>1515</td>\n",
              "    </tr>\n",
              "    <tr>\n",
              "      <th>99997</th>\n",
              "      <td>c-1</td>\n",
              "      <td>c-30</td>\n",
              "      <td>c-2</td>\n",
              "      <td>1509</td>\n",
              "      <td>OO</td>\n",
              "      <td>ORD</td>\n",
              "      <td>SGF</td>\n",
              "      <td>438</td>\n",
              "    </tr>\n",
              "    <tr>\n",
              "      <th>99998</th>\n",
              "      <td>c-1</td>\n",
              "      <td>c-5</td>\n",
              "      <td>c-5</td>\n",
              "      <td>804</td>\n",
              "      <td>DL</td>\n",
              "      <td>LGA</td>\n",
              "      <td>ATL</td>\n",
              "      <td>761</td>\n",
              "    </tr>\n",
              "    <tr>\n",
              "      <th>99999</th>\n",
              "      <td>c-10</td>\n",
              "      <td>c-29</td>\n",
              "      <td>c-1</td>\n",
              "      <td>834</td>\n",
              "      <td>OO</td>\n",
              "      <td>MKE</td>\n",
              "      <td>MSP</td>\n",
              "      <td>297</td>\n",
              "    </tr>\n",
              "  </tbody>\n",
              "</table>\n",
              "<p>100000 rows × 8 columns</p>\n",
              "</div>"
            ],
            "text/plain": [
              "      Month DayofMonth DayOfWeek  DepTime UniqueCarrier Origin Dest  Distance\n",
              "0       c-7       c-25       c-3      615            YV    MRY  PHX       598\n",
              "1       c-4       c-17       c-2      739            WN    LAS  HOU      1235\n",
              "2      c-12        c-2       c-7      651            MQ    GSP  ORD       577\n",
              "3       c-3       c-25       c-7     1614            WN    BWI  MHT       377\n",
              "4       c-6        c-6       c-3     1505            UA    ORD  STL       258\n",
              "...     ...        ...       ...      ...           ...    ...  ...       ...\n",
              "99995   c-6        c-5       c-2      852            WN    CRP  HOU       187\n",
              "99996  c-11       c-24       c-6     1446            UA    ORD  LAS      1515\n",
              "99997   c-1       c-30       c-2     1509            OO    ORD  SGF       438\n",
              "99998   c-1        c-5       c-5      804            DL    LGA  ATL       761\n",
              "99999  c-10       c-29       c-1      834            OO    MKE  MSP       297\n",
              "\n",
              "[100000 rows x 8 columns]"
            ]
          },
          "metadata": {
            "tags": []
          },
          "execution_count": 113
        }
      ]
    },
    {
      "cell_type": "code",
      "metadata": {
        "colab": {
          "resources": {
            "http://localhost:8080/nbextensions/google.colab/files.js": {
              "data": "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",
              "ok": true,
              "headers": [
                [
                  "content-type",
                  "application/javascript"
                ]
              ],
              "status": 200,
              "status_text": ""
            }
          },
          "base_uri": "https://localhost:8080/",
          "height": 73
        },
        "id": "xfalrFG9MyXO",
        "outputId": "2ed7389b-97fa-40af-af7f-c5e1e4d2fb5e"
      },
      "source": [
        "from google.colab import files \n",
        "uploaded = files.upload()"
      ],
      "execution_count": 114,
      "outputs": [
        {
          "output_type": "display_data",
          "data": {
            "text/html": [
              "\n",
              "     <input type=\"file\" id=\"files-7bfc502e-5bdd-4c4d-8fa5-78c0881eed30\" name=\"files[]\" multiple disabled\n",
              "        style=\"border:none\" />\n",
              "     <output id=\"result-7bfc502e-5bdd-4c4d-8fa5-78c0881eed30\">\n",
              "      Upload widget is only available when the cell has been executed in the\n",
              "      current browser session. Please rerun this cell to enable.\n",
              "      </output>\n",
              "      <script src=\"/nbextensions/google.colab/files.js\"></script> "
            ],
            "text/plain": [
              "<IPython.core.display.HTML object>"
            ]
          },
          "metadata": {
            "tags": []
          }
        },
        {
          "output_type": "stream",
          "text": [
            "Saving flight_delays_train.csv to flight_delays_train (3).csv\n"
          ],
          "name": "stdout"
        }
      ]
    },
    {
      "cell_type": "code",
      "metadata": {
        "colab": {
          "base_uri": "https://localhost:8080/",
          "height": 419
        },
        "id": "IUD98yAh4yT_",
        "outputId": "039fba71-d9ea-4d47-9dcc-296fdac0e15f"
      },
      "source": [
        "traiin = pd.read_csv(\"flight_delays_train.csv\")\n",
        "traiin"
      ],
      "execution_count": 115,
      "outputs": [
        {
          "output_type": "execute_result",
          "data": {
            "text/html": [
              "<div>\n",
              "<style scoped>\n",
              "    .dataframe tbody tr th:only-of-type {\n",
              "        vertical-align: middle;\n",
              "    }\n",
              "\n",
              "    .dataframe tbody tr th {\n",
              "        vertical-align: top;\n",
              "    }\n",
              "\n",
              "    .dataframe thead th {\n",
              "        text-align: right;\n",
              "    }\n",
              "</style>\n",
              "<table border=\"1\" class=\"dataframe\">\n",
              "  <thead>\n",
              "    <tr style=\"text-align: right;\">\n",
              "      <th></th>\n",
              "      <th>Month</th>\n",
              "      <th>DayofMonth</th>\n",
              "      <th>DayOfWeek</th>\n",
              "      <th>DepTime</th>\n",
              "      <th>UniqueCarrier</th>\n",
              "      <th>Origin</th>\n",
              "      <th>Dest</th>\n",
              "      <th>Distance</th>\n",
              "      <th>dep_delayed_15min</th>\n",
              "    </tr>\n",
              "  </thead>\n",
              "  <tbody>\n",
              "    <tr>\n",
              "      <th>0</th>\n",
              "      <td>c-8</td>\n",
              "      <td>c-21</td>\n",
              "      <td>c-7</td>\n",
              "      <td>1934</td>\n",
              "      <td>AA</td>\n",
              "      <td>ATL</td>\n",
              "      <td>DFW</td>\n",
              "      <td>732</td>\n",
              "      <td>N</td>\n",
              "    </tr>\n",
              "    <tr>\n",
              "      <th>1</th>\n",
              "      <td>c-4</td>\n",
              "      <td>c-20</td>\n",
              "      <td>c-3</td>\n",
              "      <td>1548</td>\n",
              "      <td>US</td>\n",
              "      <td>PIT</td>\n",
              "      <td>MCO</td>\n",
              "      <td>834</td>\n",
              "      <td>N</td>\n",
              "    </tr>\n",
              "    <tr>\n",
              "      <th>2</th>\n",
              "      <td>c-9</td>\n",
              "      <td>c-2</td>\n",
              "      <td>c-5</td>\n",
              "      <td>1422</td>\n",
              "      <td>XE</td>\n",
              "      <td>RDU</td>\n",
              "      <td>CLE</td>\n",
              "      <td>416</td>\n",
              "      <td>N</td>\n",
              "    </tr>\n",
              "    <tr>\n",
              "      <th>3</th>\n",
              "      <td>c-11</td>\n",
              "      <td>c-25</td>\n",
              "      <td>c-6</td>\n",
              "      <td>1015</td>\n",
              "      <td>OO</td>\n",
              "      <td>DEN</td>\n",
              "      <td>MEM</td>\n",
              "      <td>872</td>\n",
              "      <td>N</td>\n",
              "    </tr>\n",
              "    <tr>\n",
              "      <th>4</th>\n",
              "      <td>c-10</td>\n",
              "      <td>c-7</td>\n",
              "      <td>c-6</td>\n",
              "      <td>1828</td>\n",
              "      <td>WN</td>\n",
              "      <td>MDW</td>\n",
              "      <td>OMA</td>\n",
              "      <td>423</td>\n",
              "      <td>Y</td>\n",
              "    </tr>\n",
              "    <tr>\n",
              "      <th>...</th>\n",
              "      <td>...</td>\n",
              "      <td>...</td>\n",
              "      <td>...</td>\n",
              "      <td>...</td>\n",
              "      <td>...</td>\n",
              "      <td>...</td>\n",
              "      <td>...</td>\n",
              "      <td>...</td>\n",
              "      <td>...</td>\n",
              "    </tr>\n",
              "    <tr>\n",
              "      <th>99995</th>\n",
              "      <td>c-5</td>\n",
              "      <td>c-4</td>\n",
              "      <td>c-3</td>\n",
              "      <td>1618</td>\n",
              "      <td>OO</td>\n",
              "      <td>SFO</td>\n",
              "      <td>RDD</td>\n",
              "      <td>199</td>\n",
              "      <td>N</td>\n",
              "    </tr>\n",
              "    <tr>\n",
              "      <th>99996</th>\n",
              "      <td>c-1</td>\n",
              "      <td>c-18</td>\n",
              "      <td>c-3</td>\n",
              "      <td>804</td>\n",
              "      <td>CO</td>\n",
              "      <td>EWR</td>\n",
              "      <td>DAB</td>\n",
              "      <td>884</td>\n",
              "      <td>N</td>\n",
              "    </tr>\n",
              "    <tr>\n",
              "      <th>99997</th>\n",
              "      <td>c-1</td>\n",
              "      <td>c-24</td>\n",
              "      <td>c-2</td>\n",
              "      <td>1901</td>\n",
              "      <td>NW</td>\n",
              "      <td>DTW</td>\n",
              "      <td>IAH</td>\n",
              "      <td>1076</td>\n",
              "      <td>N</td>\n",
              "    </tr>\n",
              "    <tr>\n",
              "      <th>99998</th>\n",
              "      <td>c-4</td>\n",
              "      <td>c-27</td>\n",
              "      <td>c-4</td>\n",
              "      <td>1515</td>\n",
              "      <td>MQ</td>\n",
              "      <td>DFW</td>\n",
              "      <td>GGG</td>\n",
              "      <td>140</td>\n",
              "      <td>N</td>\n",
              "    </tr>\n",
              "    <tr>\n",
              "      <th>99999</th>\n",
              "      <td>c-11</td>\n",
              "      <td>c-17</td>\n",
              "      <td>c-4</td>\n",
              "      <td>1800</td>\n",
              "      <td>WN</td>\n",
              "      <td>SEA</td>\n",
              "      <td>SMF</td>\n",
              "      <td>605</td>\n",
              "      <td>N</td>\n",
              "    </tr>\n",
              "  </tbody>\n",
              "</table>\n",
              "<p>100000 rows × 9 columns</p>\n",
              "</div>"
            ],
            "text/plain": [
              "      Month DayofMonth DayOfWeek  ...  Dest Distance dep_delayed_15min\n",
              "0       c-8       c-21       c-7  ...   DFW      732                 N\n",
              "1       c-4       c-20       c-3  ...   MCO      834                 N\n",
              "2       c-9        c-2       c-5  ...   CLE      416                 N\n",
              "3      c-11       c-25       c-6  ...   MEM      872                 N\n",
              "4      c-10        c-7       c-6  ...   OMA      423                 Y\n",
              "...     ...        ...       ...  ...   ...      ...               ...\n",
              "99995   c-5        c-4       c-3  ...   RDD      199                 N\n",
              "99996   c-1       c-18       c-3  ...   DAB      884                 N\n",
              "99997   c-1       c-24       c-2  ...   IAH     1076                 N\n",
              "99998   c-4       c-27       c-4  ...   GGG      140                 N\n",
              "99999  c-11       c-17       c-4  ...   SMF      605                 N\n",
              "\n",
              "[100000 rows x 9 columns]"
            ]
          },
          "metadata": {
            "tags": []
          },
          "execution_count": 115
        }
      ]
    },
    {
      "cell_type": "markdown",
      "metadata": {
        "id": "w3QbKObq55qo"
      },
      "source": [
        "**Pré processamento dos dados**"
      ]
    },
    {
      "cell_type": "code",
      "metadata": {
        "id": "qJ4wJxR643w3"
      },
      "source": [
        "labelencoder = LabelEncoder()\n",
        "test['UniqueCarrier']= labelencoder.fit_transform(test.UniqueCarrier)\n",
        "test['Origin']= labelencoder.fit_transform(test.Origin)\n",
        "test['Dest']= labelencoder.fit_transform(test.Dest)\n",
        "\n",
        "traiin['UniqueCarrier']= labelencoder.fit_transform(traiin.UniqueCarrier)\n",
        "traiin['Origin']= labelencoder.fit_transform(traiin.Origin)\n",
        "traiin['Dest']= labelencoder.fit_transform(traiin.Dest)\n",
        "traiin['dep_delayed_15min']= labelencoder.fit_transform(traiin.dep_delayed_15min)"
      ],
      "execution_count": 116,
      "outputs": []
    },
    {
      "cell_type": "code",
      "metadata": {
        "id": "mdUyFeBb5RU1"
      },
      "source": [
        "test['Month'] = test['Month'].str.replace(r'\\D', '').astype(int)"
      ],
      "execution_count": 117,
      "outputs": []
    },
    {
      "cell_type": "code",
      "metadata": {
        "id": "aQoDxpo25Wgi"
      },
      "source": [
        "test['DayofMonth'] = test['DayofMonth'].str.replace(r'\\D', '').astype(int)"
      ],
      "execution_count": 118,
      "outputs": []
    },
    {
      "cell_type": "code",
      "metadata": {
        "id": "htBEl6F-5bbX"
      },
      "source": [
        "test['DayOfWeek'] = test['DayOfWeek'].str.replace(r'c-', '').astype(int)"
      ],
      "execution_count": 119,
      "outputs": []
    },
    {
      "cell_type": "code",
      "metadata": {
        "colab": {
          "base_uri": "https://localhost:8080/",
          "height": 204
        },
        "id": "0AA7bUk247G6",
        "outputId": "f5a50cc0-2537-49b5-c437-28934bd678a9"
      },
      "source": [
        "test.head()\n"
      ],
      "execution_count": 120,
      "outputs": [
        {
          "output_type": "execute_result",
          "data": {
            "text/html": [
              "<div>\n",
              "<style scoped>\n",
              "    .dataframe tbody tr th:only-of-type {\n",
              "        vertical-align: middle;\n",
              "    }\n",
              "\n",
              "    .dataframe tbody tr th {\n",
              "        vertical-align: top;\n",
              "    }\n",
              "\n",
              "    .dataframe thead th {\n",
              "        text-align: right;\n",
              "    }\n",
              "</style>\n",
              "<table border=\"1\" class=\"dataframe\">\n",
              "  <thead>\n",
              "    <tr style=\"text-align: right;\">\n",
              "      <th></th>\n",
              "      <th>Month</th>\n",
              "      <th>DayofMonth</th>\n",
              "      <th>DayOfWeek</th>\n",
              "      <th>DepTime</th>\n",
              "      <th>UniqueCarrier</th>\n",
              "      <th>Origin</th>\n",
              "      <th>Dest</th>\n",
              "      <th>Distance</th>\n",
              "    </tr>\n",
              "  </thead>\n",
              "  <tbody>\n",
              "    <tr>\n",
              "      <th>0</th>\n",
              "      <td>7</td>\n",
              "      <td>25</td>\n",
              "      <td>3</td>\n",
              "      <td>615</td>\n",
              "      <td>19</td>\n",
              "      <td>194</td>\n",
              "      <td>217</td>\n",
              "      <td>598</td>\n",
              "    </tr>\n",
              "    <tr>\n",
              "      <th>1</th>\n",
              "      <td>4</td>\n",
              "      <td>17</td>\n",
              "      <td>2</td>\n",
              "      <td>739</td>\n",
              "      <td>17</td>\n",
              "      <td>155</td>\n",
              "      <td>129</td>\n",
              "      <td>1235</td>\n",
              "    </tr>\n",
              "    <tr>\n",
              "      <th>2</th>\n",
              "      <td>12</td>\n",
              "      <td>2</td>\n",
              "      <td>7</td>\n",
              "      <td>651</td>\n",
              "      <td>11</td>\n",
              "      <td>121</td>\n",
              "      <td>208</td>\n",
              "      <td>577</td>\n",
              "    </tr>\n",
              "    <tr>\n",
              "      <th>3</th>\n",
              "      <td>3</td>\n",
              "      <td>25</td>\n",
              "      <td>7</td>\n",
              "      <td>1614</td>\n",
              "      <td>17</td>\n",
              "      <td>49</td>\n",
              "      <td>183</td>\n",
              "      <td>377</td>\n",
              "    </tr>\n",
              "    <tr>\n",
              "      <th>4</th>\n",
              "      <td>6</td>\n",
              "      <td>6</td>\n",
              "      <td>3</td>\n",
              "      <td>1505</td>\n",
              "      <td>15</td>\n",
              "      <td>209</td>\n",
              "      <td>270</td>\n",
              "      <td>258</td>\n",
              "    </tr>\n",
              "  </tbody>\n",
              "</table>\n",
              "</div>"
            ],
            "text/plain": [
              "   Month  DayofMonth  DayOfWeek  DepTime  UniqueCarrier  Origin  Dest  Distance\n",
              "0      7          25          3      615             19     194   217       598\n",
              "1      4          17          2      739             17     155   129      1235\n",
              "2     12           2          7      651             11     121   208       577\n",
              "3      3          25          7     1614             17      49   183       377\n",
              "4      6           6          3     1505             15     209   270       258"
            ]
          },
          "metadata": {
            "tags": []
          },
          "execution_count": 120
        }
      ]
    },
    {
      "cell_type": "code",
      "metadata": {
        "id": "9SSaaJRA5vTL"
      },
      "source": [
        "traiin['Month'] = traiin['Month'].str.replace(r'\\D', '').astype(int)"
      ],
      "execution_count": 121,
      "outputs": []
    },
    {
      "cell_type": "code",
      "metadata": {
        "id": "-MwoJIwR5ybL"
      },
      "source": [
        "traiin['DayofMonth'] = traiin['DayofMonth'].str.replace(r'\\D', '').astype(int)"
      ],
      "execution_count": 122,
      "outputs": []
    },
    {
      "cell_type": "code",
      "metadata": {
        "id": "K8bVfarE5074"
      },
      "source": [
        "traiin['DayOfWeek'] = traiin['DayOfWeek'].str.replace(r'\\D', '').astype(int)"
      ],
      "execution_count": 123,
      "outputs": []
    },
    {
      "cell_type": "code",
      "metadata": {
        "colab": {
          "base_uri": "https://localhost:8080/",
          "height": 204
        },
        "id": "HPXq3dxy5OWw",
        "outputId": "b04c59de-9d39-49a3-fe79-fda687b1a25c"
      },
      "source": [
        "traiin.head()"
      ],
      "execution_count": 124,
      "outputs": [
        {
          "output_type": "execute_result",
          "data": {
            "text/html": [
              "<div>\n",
              "<style scoped>\n",
              "    .dataframe tbody tr th:only-of-type {\n",
              "        vertical-align: middle;\n",
              "    }\n",
              "\n",
              "    .dataframe tbody tr th {\n",
              "        vertical-align: top;\n",
              "    }\n",
              "\n",
              "    .dataframe thead th {\n",
              "        text-align: right;\n",
              "    }\n",
              "</style>\n",
              "<table border=\"1\" class=\"dataframe\">\n",
              "  <thead>\n",
              "    <tr style=\"text-align: right;\">\n",
              "      <th></th>\n",
              "      <th>Month</th>\n",
              "      <th>DayofMonth</th>\n",
              "      <th>DayOfWeek</th>\n",
              "      <th>DepTime</th>\n",
              "      <th>UniqueCarrier</th>\n",
              "      <th>Origin</th>\n",
              "      <th>Dest</th>\n",
              "      <th>Distance</th>\n",
              "      <th>dep_delayed_15min</th>\n",
              "    </tr>\n",
              "  </thead>\n",
              "  <tbody>\n",
              "    <tr>\n",
              "      <th>0</th>\n",
              "      <td>8</td>\n",
              "      <td>21</td>\n",
              "      <td>7</td>\n",
              "      <td>1934</td>\n",
              "      <td>0</td>\n",
              "      <td>18</td>\n",
              "      <td>78</td>\n",
              "      <td>732</td>\n",
              "      <td>0</td>\n",
              "    </tr>\n",
              "    <tr>\n",
              "      <th>1</th>\n",
              "      <td>4</td>\n",
              "      <td>20</td>\n",
              "      <td>3</td>\n",
              "      <td>1548</td>\n",
              "      <td>18</td>\n",
              "      <td>217</td>\n",
              "      <td>171</td>\n",
              "      <td>834</td>\n",
              "      <td>0</td>\n",
              "    </tr>\n",
              "    <tr>\n",
              "      <th>2</th>\n",
              "      <td>9</td>\n",
              "      <td>2</td>\n",
              "      <td>5</td>\n",
              "      <td>1422</td>\n",
              "      <td>20</td>\n",
              "      <td>228</td>\n",
              "      <td>59</td>\n",
              "      <td>416</td>\n",
              "      <td>0</td>\n",
              "    </tr>\n",
              "    <tr>\n",
              "      <th>3</th>\n",
              "      <td>11</td>\n",
              "      <td>25</td>\n",
              "      <td>6</td>\n",
              "      <td>1015</td>\n",
              "      <td>15</td>\n",
              "      <td>78</td>\n",
              "      <td>175</td>\n",
              "      <td>872</td>\n",
              "      <td>0</td>\n",
              "    </tr>\n",
              "    <tr>\n",
              "      <th>4</th>\n",
              "      <td>10</td>\n",
              "      <td>7</td>\n",
              "      <td>6</td>\n",
              "      <td>1828</td>\n",
              "      <td>19</td>\n",
              "      <td>174</td>\n",
              "      <td>199</td>\n",
              "      <td>423</td>\n",
              "      <td>1</td>\n",
              "    </tr>\n",
              "  </tbody>\n",
              "</table>\n",
              "</div>"
            ],
            "text/plain": [
              "   Month  DayofMonth  DayOfWeek  ...  Dest  Distance  dep_delayed_15min\n",
              "0      8          21          7  ...    78       732                  0\n",
              "1      4          20          3  ...   171       834                  0\n",
              "2      9           2          5  ...    59       416                  0\n",
              "3     11          25          6  ...   175       872                  0\n",
              "4     10           7          6  ...   199       423                  1\n",
              "\n",
              "[5 rows x 9 columns]"
            ]
          },
          "metadata": {
            "tags": []
          },
          "execution_count": 124
        }
      ]
    },
    {
      "cell_type": "markdown",
      "metadata": {
        "id": "VqCE_6ab6AFz"
      },
      "source": [
        "**Split dos dados**"
      ]
    },
    {
      "cell_type": "code",
      "metadata": {
        "id": "jtfuD-Nc6pmy"
      },
      "source": [
        "X_train = traiin.drop(columns=['dep_delayed_15min'])\n",
        "y_train = traiin['dep_delayed_15min']\n",
        "#X_test = test"
      ],
      "execution_count": 125,
      "outputs": []
    },
    {
      "cell_type": "markdown",
      "metadata": {
        "id": "ymwU-C5azvv4"
      },
      "source": [
        "**Scaler**"
      ]
    },
    {
      "cell_type": "code",
      "metadata": {
        "id": "-I9mcYpc2Vns"
      },
      "source": [
        "#scaler = StandardScaler()\n",
        "#scaler.fit(X_train)\n",
        "#X_train = scaler.transform(X_train)\n",
        "#X_test = scaler.transform(X_test)\n",
        "#X_train"
      ],
      "execution_count": 126,
      "outputs": []
    },
    {
      "cell_type": "markdown",
      "metadata": {
        "id": "csZxRJGA6J7I"
      },
      "source": [
        "**GBDT**"
      ]
    },
    {
      "cell_type": "markdown",
      "metadata": {
        "id": "adSBFzA36F2F"
      },
      "source": [
        "2. Aplique Gradient Boosting e alcance o maior resultado possível na base de testes\n",
        "  a. Siga todo o processo que praticamos até agora na base\n",
        "  b. Utilize o roc_auc_score(y_test, y_pred) para a avaliação, além das métricas que aprendemos"
      ]
    },
    {
      "cell_type": "code",
      "metadata": {
        "id": "AnAIqEmk6Jia"
      },
      "source": [
        "from sklearn import ensemble # importa o pacote ensemble\n",
        "from sklearn.ensemble import GradientBoostingClassifier\n",
        "\n",
        "\n",
        "X_train, X_test, y_train, y_test = train_test_split(X_train, y_train, test_size=0.33, random_state=42, stratify=y_train)\n",
        "\n",
        "# Cria o modelo com 100 árvores\n",
        "model = ensemble.GradientBoostingClassifier ( n_estimators=100 )\n",
        "model.fit ( X_train, y_train ) # Treina o modelo\n",
        "predictions = model.predict(X_test) # Utiliza o modelo na base de testes"
      ],
      "execution_count": 127,
      "outputs": []
    },
    {
      "cell_type": "code",
      "metadata": {
        "colab": {
          "base_uri": "https://localhost:8080/"
        },
        "id": "0Z-up7FvqmRd",
        "outputId": "4347c706-5d1f-45b7-fef3-2383586cf95c"
      },
      "source": [
        "from sklearn.metrics import confusion_matrix\n",
        "from sklearn.metrics import roc_auc_score\n",
        "\n",
        "print(f\"Accuracy: {accuracy_score(predictions, y_test)}\")\n",
        "print(\"Confusion Matrix:\")\n",
        "print(confusion_matrix(predictions, y_test))\n",
        "print(f\"Roc score: {roc_auc_score(y_test, model.predict_proba(X_test)[:, 1])}\")"
      ],
      "execution_count": 128,
      "outputs": [
        {
          "output_type": "stream",
          "text": [
            "Accuracy: 0.8155757575757576\n",
            "Confusion Matrix:\n",
            "[[26534  5905]\n",
            " [  181   380]]\n",
            "Roc score: 0.7200138829517084\n"
          ],
          "name": "stdout"
        }
      ]
    },
    {
      "cell_type": "markdown",
      "metadata": {
        "id": "9HsZlDu1qtqP"
      },
      "source": [
        "**Melhorar o score**"
      ]
    },
    {
      "cell_type": "code",
      "metadata": {
        "id": "Z0v3CW73RsGU",
        "colab": {
          "base_uri": "https://localhost:8080/"
        },
        "outputId": "5d8b937b-34ef-453c-b923-d649539d4651"
      },
      "source": [
        "import lightgbm as lgb\n",
        "from lightgbm import LGBMModel,LGBMClassifier\n",
        "from sklearn import metrics\n",
        "\n",
        "gbm = lgb.LGBMClassifier(n_estimators=200,)\n",
        "gbm.fit(X_train, y_train,\n",
        "        eval_set=[(X_test, y_test)],\n",
        "        eval_metric='l1',\n",
        "        early_stopping_rounds=5)"
      ],
      "execution_count": 129,
      "outputs": [
        {
          "output_type": "stream",
          "text": [
            "[1]\tvalid_0's binary_logloss: 0.47879\tvalid_0's l1: 0.305758\n",
            "Training until validation scores don't improve for 5 rounds.\n",
            "[2]\tvalid_0's binary_logloss: 0.47252\tvalid_0's l1: 0.303393\n",
            "[3]\tvalid_0's binary_logloss: 0.467354\tvalid_0's l1: 0.301253\n",
            "[4]\tvalid_0's binary_logloss: 0.462982\tvalid_0's l1: 0.299241\n",
            "[5]\tvalid_0's binary_logloss: 0.459348\tvalid_0's l1: 0.297374\n",
            "[6]\tvalid_0's binary_logloss: 0.456393\tvalid_0's l1: 0.295718\n",
            "[7]\tvalid_0's binary_logloss: 0.453946\tvalid_0's l1: 0.294256\n",
            "[8]\tvalid_0's binary_logloss: 0.451789\tvalid_0's l1: 0.292886\n",
            "[9]\tvalid_0's binary_logloss: 0.449958\tvalid_0's l1: 0.291636\n",
            "[10]\tvalid_0's binary_logloss: 0.448301\tvalid_0's l1: 0.290456\n",
            "[11]\tvalid_0's binary_logloss: 0.446884\tvalid_0's l1: 0.289399\n",
            "[12]\tvalid_0's binary_logloss: 0.445522\tvalid_0's l1: 0.288387\n",
            "[13]\tvalid_0's binary_logloss: 0.444348\tvalid_0's l1: 0.287431\n",
            "[14]\tvalid_0's binary_logloss: 0.44329\tvalid_0's l1: 0.28655\n",
            "[15]\tvalid_0's binary_logloss: 0.442321\tvalid_0's l1: 0.285738\n",
            "[16]\tvalid_0's binary_logloss: 0.441521\tvalid_0's l1: 0.285087\n",
            "[17]\tvalid_0's binary_logloss: 0.440815\tvalid_0's l1: 0.284436\n",
            "[18]\tvalid_0's binary_logloss: 0.440122\tvalid_0's l1: 0.283807\n",
            "[19]\tvalid_0's binary_logloss: 0.439388\tvalid_0's l1: 0.28324\n",
            "[20]\tvalid_0's binary_logloss: 0.438684\tvalid_0's l1: 0.282576\n",
            "[21]\tvalid_0's binary_logloss: 0.438169\tvalid_0's l1: 0.282101\n",
            "[22]\tvalid_0's binary_logloss: 0.437717\tvalid_0's l1: 0.281639\n",
            "[23]\tvalid_0's binary_logloss: 0.437128\tvalid_0's l1: 0.281164\n",
            "[24]\tvalid_0's binary_logloss: 0.436728\tvalid_0's l1: 0.280759\n",
            "[25]\tvalid_0's binary_logloss: 0.436375\tvalid_0's l1: 0.280441\n",
            "[26]\tvalid_0's binary_logloss: 0.436083\tvalid_0's l1: 0.280126\n",
            "[27]\tvalid_0's binary_logloss: 0.435752\tvalid_0's l1: 0.279833\n",
            "[28]\tvalid_0's binary_logloss: 0.435375\tvalid_0's l1: 0.279505\n",
            "[29]\tvalid_0's binary_logloss: 0.43497\tvalid_0's l1: 0.279103\n",
            "[30]\tvalid_0's binary_logloss: 0.43471\tvalid_0's l1: 0.278842\n",
            "[31]\tvalid_0's binary_logloss: 0.434413\tvalid_0's l1: 0.278572\n",
            "[32]\tvalid_0's binary_logloss: 0.434174\tvalid_0's l1: 0.27835\n",
            "[33]\tvalid_0's binary_logloss: 0.43361\tvalid_0's l1: 0.278039\n",
            "[34]\tvalid_0's binary_logloss: 0.433345\tvalid_0's l1: 0.277823\n",
            "[35]\tvalid_0's binary_logloss: 0.433108\tvalid_0's l1: 0.277615\n",
            "[36]\tvalid_0's binary_logloss: 0.432632\tvalid_0's l1: 0.277329\n",
            "[37]\tvalid_0's binary_logloss: 0.432469\tvalid_0's l1: 0.277119\n",
            "[38]\tvalid_0's binary_logloss: 0.432098\tvalid_0's l1: 0.276911\n",
            "[39]\tvalid_0's binary_logloss: 0.431764\tvalid_0's l1: 0.276714\n",
            "[40]\tvalid_0's binary_logloss: 0.431531\tvalid_0's l1: 0.276551\n",
            "[41]\tvalid_0's binary_logloss: 0.431416\tvalid_0's l1: 0.276435\n",
            "[42]\tvalid_0's binary_logloss: 0.431021\tvalid_0's l1: 0.27614\n",
            "[43]\tvalid_0's binary_logloss: 0.430824\tvalid_0's l1: 0.275957\n",
            "[44]\tvalid_0's binary_logloss: 0.430569\tvalid_0's l1: 0.275794\n",
            "[45]\tvalid_0's binary_logloss: 0.430451\tvalid_0's l1: 0.275689\n",
            "[46]\tvalid_0's binary_logloss: 0.430275\tvalid_0's l1: 0.275495\n",
            "[47]\tvalid_0's binary_logloss: 0.430096\tvalid_0's l1: 0.275363\n",
            "[48]\tvalid_0's binary_logloss: 0.429848\tvalid_0's l1: 0.275222\n",
            "[49]\tvalid_0's binary_logloss: 0.42969\tvalid_0's l1: 0.275101\n",
            "[50]\tvalid_0's binary_logloss: 0.429517\tvalid_0's l1: 0.274968\n",
            "[51]\tvalid_0's binary_logloss: 0.429299\tvalid_0's l1: 0.274782\n",
            "[52]\tvalid_0's binary_logloss: 0.429104\tvalid_0's l1: 0.274632\n",
            "[53]\tvalid_0's binary_logloss: 0.429005\tvalid_0's l1: 0.274558\n",
            "[54]\tvalid_0's binary_logloss: 0.428838\tvalid_0's l1: 0.274392\n",
            "[55]\tvalid_0's binary_logloss: 0.428644\tvalid_0's l1: 0.274229\n",
            "[56]\tvalid_0's binary_logloss: 0.42855\tvalid_0's l1: 0.274177\n",
            "[57]\tvalid_0's binary_logloss: 0.42852\tvalid_0's l1: 0.27414\n",
            "[58]\tvalid_0's binary_logloss: 0.42844\tvalid_0's l1: 0.274073\n",
            "[59]\tvalid_0's binary_logloss: 0.428337\tvalid_0's l1: 0.273952\n",
            "[60]\tvalid_0's binary_logloss: 0.428172\tvalid_0's l1: 0.273826\n",
            "[61]\tvalid_0's binary_logloss: 0.428058\tvalid_0's l1: 0.273719\n",
            "[62]\tvalid_0's binary_logloss: 0.427944\tvalid_0's l1: 0.273622\n",
            "[63]\tvalid_0's binary_logloss: 0.42783\tvalid_0's l1: 0.273512\n",
            "[64]\tvalid_0's binary_logloss: 0.427671\tvalid_0's l1: 0.273378\n",
            "[65]\tvalid_0's binary_logloss: 0.427571\tvalid_0's l1: 0.273318\n",
            "[66]\tvalid_0's binary_logloss: 0.427451\tvalid_0's l1: 0.273206\n",
            "[67]\tvalid_0's binary_logloss: 0.427374\tvalid_0's l1: 0.273136\n",
            "[68]\tvalid_0's binary_logloss: 0.427369\tvalid_0's l1: 0.27312\n",
            "[69]\tvalid_0's binary_logloss: 0.427283\tvalid_0's l1: 0.273072\n",
            "[70]\tvalid_0's binary_logloss: 0.427164\tvalid_0's l1: 0.272968\n",
            "[71]\tvalid_0's binary_logloss: 0.427107\tvalid_0's l1: 0.272926\n",
            "[72]\tvalid_0's binary_logloss: 0.427041\tvalid_0's l1: 0.272862\n",
            "[73]\tvalid_0's binary_logloss: 0.427038\tvalid_0's l1: 0.272837\n",
            "[74]\tvalid_0's binary_logloss: 0.427013\tvalid_0's l1: 0.272815\n",
            "[75]\tvalid_0's binary_logloss: 0.42691\tvalid_0's l1: 0.27274\n",
            "[76]\tvalid_0's binary_logloss: 0.426841\tvalid_0's l1: 0.272673\n",
            "[77]\tvalid_0's binary_logloss: 0.426789\tvalid_0's l1: 0.272626\n",
            "[78]\tvalid_0's binary_logloss: 0.426691\tvalid_0's l1: 0.272517\n",
            "[79]\tvalid_0's binary_logloss: 0.426642\tvalid_0's l1: 0.272495\n",
            "[80]\tvalid_0's binary_logloss: 0.426541\tvalid_0's l1: 0.27239\n",
            "[81]\tvalid_0's binary_logloss: 0.426391\tvalid_0's l1: 0.27229\n",
            "[82]\tvalid_0's binary_logloss: 0.42632\tvalid_0's l1: 0.272218\n",
            "[83]\tvalid_0's binary_logloss: 0.426248\tvalid_0's l1: 0.272178\n",
            "[84]\tvalid_0's binary_logloss: 0.426094\tvalid_0's l1: 0.27204\n",
            "[85]\tvalid_0's binary_logloss: 0.42607\tvalid_0's l1: 0.272016\n",
            "[86]\tvalid_0's binary_logloss: 0.426003\tvalid_0's l1: 0.271967\n",
            "[87]\tvalid_0's binary_logloss: 0.426012\tvalid_0's l1: 0.271964\n",
            "[88]\tvalid_0's binary_logloss: 0.425894\tvalid_0's l1: 0.271873\n",
            "[89]\tvalid_0's binary_logloss: 0.425768\tvalid_0's l1: 0.271785\n",
            "[90]\tvalid_0's binary_logloss: 0.425693\tvalid_0's l1: 0.271724\n",
            "[91]\tvalid_0's binary_logloss: 0.425632\tvalid_0's l1: 0.271662\n",
            "[92]\tvalid_0's binary_logloss: 0.425573\tvalid_0's l1: 0.27163\n",
            "[93]\tvalid_0's binary_logloss: 0.425549\tvalid_0's l1: 0.271609\n",
            "[94]\tvalid_0's binary_logloss: 0.425378\tvalid_0's l1: 0.271478\n",
            "[95]\tvalid_0's binary_logloss: 0.425291\tvalid_0's l1: 0.271379\n",
            "[96]\tvalid_0's binary_logloss: 0.425276\tvalid_0's l1: 0.271333\n",
            "[97]\tvalid_0's binary_logloss: 0.425202\tvalid_0's l1: 0.271249\n",
            "[98]\tvalid_0's binary_logloss: 0.425217\tvalid_0's l1: 0.271225\n",
            "[99]\tvalid_0's binary_logloss: 0.425078\tvalid_0's l1: 0.271185\n",
            "[100]\tvalid_0's binary_logloss: 0.425046\tvalid_0's l1: 0.271149\n",
            "[101]\tvalid_0's binary_logloss: 0.425021\tvalid_0's l1: 0.271102\n",
            "[102]\tvalid_0's binary_logloss: 0.425004\tvalid_0's l1: 0.271077\n",
            "[103]\tvalid_0's binary_logloss: 0.424916\tvalid_0's l1: 0.271005\n",
            "[104]\tvalid_0's binary_logloss: 0.424828\tvalid_0's l1: 0.270959\n",
            "[105]\tvalid_0's binary_logloss: 0.424789\tvalid_0's l1: 0.270931\n",
            "[106]\tvalid_0's binary_logloss: 0.424752\tvalid_0's l1: 0.270875\n",
            "[107]\tvalid_0's binary_logloss: 0.424696\tvalid_0's l1: 0.270845\n",
            "[108]\tvalid_0's binary_logloss: 0.424571\tvalid_0's l1: 0.270745\n",
            "[109]\tvalid_0's binary_logloss: 0.424546\tvalid_0's l1: 0.270699\n",
            "[110]\tvalid_0's binary_logloss: 0.424444\tvalid_0's l1: 0.270586\n",
            "[111]\tvalid_0's binary_logloss: 0.424338\tvalid_0's l1: 0.270505\n",
            "[112]\tvalid_0's binary_logloss: 0.424296\tvalid_0's l1: 0.270449\n",
            "[113]\tvalid_0's binary_logloss: 0.424318\tvalid_0's l1: 0.270456\n",
            "[114]\tvalid_0's binary_logloss: 0.424284\tvalid_0's l1: 0.270424\n",
            "[115]\tvalid_0's binary_logloss: 0.424244\tvalid_0's l1: 0.270374\n",
            "[116]\tvalid_0's binary_logloss: 0.424241\tvalid_0's l1: 0.270364\n",
            "[117]\tvalid_0's binary_logloss: 0.424265\tvalid_0's l1: 0.270354\n",
            "[118]\tvalid_0's binary_logloss: 0.42423\tvalid_0's l1: 0.270337\n",
            "[119]\tvalid_0's binary_logloss: 0.424205\tvalid_0's l1: 0.270313\n",
            "[120]\tvalid_0's binary_logloss: 0.424066\tvalid_0's l1: 0.270224\n",
            "[121]\tvalid_0's binary_logloss: 0.424038\tvalid_0's l1: 0.270178\n",
            "[122]\tvalid_0's binary_logloss: 0.423985\tvalid_0's l1: 0.270138\n",
            "[123]\tvalid_0's binary_logloss: 0.423962\tvalid_0's l1: 0.270122\n",
            "[124]\tvalid_0's binary_logloss: 0.423871\tvalid_0's l1: 0.270057\n",
            "[125]\tvalid_0's binary_logloss: 0.423872\tvalid_0's l1: 0.270037\n",
            "[126]\tvalid_0's binary_logloss: 0.423869\tvalid_0's l1: 0.270003\n",
            "[127]\tvalid_0's binary_logloss: 0.423835\tvalid_0's l1: 0.269955\n",
            "[128]\tvalid_0's binary_logloss: 0.423823\tvalid_0's l1: 0.269945\n",
            "[129]\tvalid_0's binary_logloss: 0.423764\tvalid_0's l1: 0.26992\n",
            "[130]\tvalid_0's binary_logloss: 0.423748\tvalid_0's l1: 0.269893\n",
            "[131]\tvalid_0's binary_logloss: 0.423713\tvalid_0's l1: 0.269839\n",
            "[132]\tvalid_0's binary_logloss: 0.423723\tvalid_0's l1: 0.269816\n",
            "[133]\tvalid_0's binary_logloss: 0.423738\tvalid_0's l1: 0.269801\n",
            "[134]\tvalid_0's binary_logloss: 0.423713\tvalid_0's l1: 0.269779\n",
            "[135]\tvalid_0's binary_logloss: 0.423665\tvalid_0's l1: 0.269738\n",
            "[136]\tvalid_0's binary_logloss: 0.423645\tvalid_0's l1: 0.269709\n",
            "[137]\tvalid_0's binary_logloss: 0.423642\tvalid_0's l1: 0.269699\n",
            "[138]\tvalid_0's binary_logloss: 0.423643\tvalid_0's l1: 0.269687\n",
            "[139]\tvalid_0's binary_logloss: 0.423622\tvalid_0's l1: 0.269649\n",
            "[140]\tvalid_0's binary_logloss: 0.423582\tvalid_0's l1: 0.269611\n",
            "[141]\tvalid_0's binary_logloss: 0.423547\tvalid_0's l1: 0.269562\n",
            "[142]\tvalid_0's binary_logloss: 0.423545\tvalid_0's l1: 0.269555\n",
            "[143]\tvalid_0's binary_logloss: 0.423524\tvalid_0's l1: 0.269522\n",
            "[144]\tvalid_0's binary_logloss: 0.423506\tvalid_0's l1: 0.269498\n",
            "[145]\tvalid_0's binary_logloss: 0.423516\tvalid_0's l1: 0.269481\n",
            "[146]\tvalid_0's binary_logloss: 0.423503\tvalid_0's l1: 0.269441\n",
            "[147]\tvalid_0's binary_logloss: 0.423456\tvalid_0's l1: 0.269391\n",
            "[148]\tvalid_0's binary_logloss: 0.42344\tvalid_0's l1: 0.269359\n",
            "[149]\tvalid_0's binary_logloss: 0.423314\tvalid_0's l1: 0.269261\n",
            "[150]\tvalid_0's binary_logloss: 0.42333\tvalid_0's l1: 0.269263\n",
            "[151]\tvalid_0's binary_logloss: 0.423326\tvalid_0's l1: 0.269241\n",
            "[152]\tvalid_0's binary_logloss: 0.423288\tvalid_0's l1: 0.269194\n",
            "[153]\tvalid_0's binary_logloss: 0.423287\tvalid_0's l1: 0.269173\n",
            "[154]\tvalid_0's binary_logloss: 0.42321\tvalid_0's l1: 0.269101\n",
            "[155]\tvalid_0's binary_logloss: 0.423157\tvalid_0's l1: 0.26907\n",
            "[156]\tvalid_0's binary_logloss: 0.423154\tvalid_0's l1: 0.269044\n",
            "[157]\tvalid_0's binary_logloss: 0.423159\tvalid_0's l1: 0.269028\n",
            "[158]\tvalid_0's binary_logloss: 0.423168\tvalid_0's l1: 0.269001\n",
            "[159]\tvalid_0's binary_logloss: 0.423149\tvalid_0's l1: 0.268977\n",
            "[160]\tvalid_0's binary_logloss: 0.423153\tvalid_0's l1: 0.268955\n",
            "[161]\tvalid_0's binary_logloss: 0.423029\tvalid_0's l1: 0.268867\n",
            "[162]\tvalid_0's binary_logloss: 0.423014\tvalid_0's l1: 0.26884\n",
            "[163]\tvalid_0's binary_logloss: 0.422977\tvalid_0's l1: 0.268809\n",
            "[164]\tvalid_0's binary_logloss: 0.422919\tvalid_0's l1: 0.26874\n",
            "[165]\tvalid_0's binary_logloss: 0.4229\tvalid_0's l1: 0.268715\n",
            "[166]\tvalid_0's binary_logloss: 0.422835\tvalid_0's l1: 0.268647\n",
            "[167]\tvalid_0's binary_logloss: 0.422776\tvalid_0's l1: 0.268611\n",
            "[168]\tvalid_0's binary_logloss: 0.422752\tvalid_0's l1: 0.268571\n",
            "[169]\tvalid_0's binary_logloss: 0.422714\tvalid_0's l1: 0.268544\n",
            "[170]\tvalid_0's binary_logloss: 0.422745\tvalid_0's l1: 0.26852\n",
            "[171]\tvalid_0's binary_logloss: 0.422718\tvalid_0's l1: 0.268503\n",
            "[172]\tvalid_0's binary_logloss: 0.42266\tvalid_0's l1: 0.268424\n",
            "[173]\tvalid_0's binary_logloss: 0.422671\tvalid_0's l1: 0.268413\n",
            "[174]\tvalid_0's binary_logloss: 0.422604\tvalid_0's l1: 0.268338\n",
            "[175]\tvalid_0's binary_logloss: 0.422616\tvalid_0's l1: 0.268329\n",
            "[176]\tvalid_0's binary_logloss: 0.422595\tvalid_0's l1: 0.268288\n",
            "[177]\tvalid_0's binary_logloss: 0.422613\tvalid_0's l1: 0.268285\n",
            "[178]\tvalid_0's binary_logloss: 0.422591\tvalid_0's l1: 0.268242\n",
            "[179]\tvalid_0's binary_logloss: 0.422504\tvalid_0's l1: 0.268164\n",
            "[180]\tvalid_0's binary_logloss: 0.422527\tvalid_0's l1: 0.268153\n",
            "[181]\tvalid_0's binary_logloss: 0.422444\tvalid_0's l1: 0.268103\n",
            "[182]\tvalid_0's binary_logloss: 0.422492\tvalid_0's l1: 0.268124\n",
            "[183]\tvalid_0's binary_logloss: 0.422436\tvalid_0's l1: 0.268082\n",
            "[184]\tvalid_0's binary_logloss: 0.422453\tvalid_0's l1: 0.268071\n",
            "[185]\tvalid_0's binary_logloss: 0.42237\tvalid_0's l1: 0.268014\n",
            "[186]\tvalid_0's binary_logloss: 0.422305\tvalid_0's l1: 0.267953\n",
            "[187]\tvalid_0's binary_logloss: 0.4223\tvalid_0's l1: 0.267932\n",
            "[188]\tvalid_0's binary_logloss: 0.422343\tvalid_0's l1: 0.267947\n",
            "[189]\tvalid_0's binary_logloss: 0.422335\tvalid_0's l1: 0.267923\n",
            "[190]\tvalid_0's binary_logloss: 0.42227\tvalid_0's l1: 0.267884\n",
            "[191]\tvalid_0's binary_logloss: 0.422256\tvalid_0's l1: 0.267857\n",
            "[192]\tvalid_0's binary_logloss: 0.422273\tvalid_0's l1: 0.267855\n",
            "[193]\tvalid_0's binary_logloss: 0.4223\tvalid_0's l1: 0.267859\n",
            "[194]\tvalid_0's binary_logloss: 0.422289\tvalid_0's l1: 0.267839\n",
            "[195]\tvalid_0's binary_logloss: 0.422249\tvalid_0's l1: 0.267812\n",
            "[196]\tvalid_0's binary_logloss: 0.422236\tvalid_0's l1: 0.267782\n",
            "[197]\tvalid_0's binary_logloss: 0.422205\tvalid_0's l1: 0.267754\n",
            "[198]\tvalid_0's binary_logloss: 0.422177\tvalid_0's l1: 0.267732\n",
            "[199]\tvalid_0's binary_logloss: 0.422223\tvalid_0's l1: 0.267712\n",
            "[200]\tvalid_0's binary_logloss: 0.422227\tvalid_0's l1: 0.267688\n",
            "Did not meet early stopping. Best iteration is:\n",
            "[198]\tvalid_0's binary_logloss: 0.422177\tvalid_0's l1: 0.267732\n"
          ],
          "name": "stdout"
        },
        {
          "output_type": "execute_result",
          "data": {
            "text/plain": [
              "LGBMClassifier(boosting_type='gbdt', class_weight=None, colsample_bytree=1.0,\n",
              "               importance_type='split', learning_rate=0.1, max_depth=-1,\n",
              "               min_child_samples=20, min_child_weight=0.001, min_split_gain=0.0,\n",
              "               n_estimators=200, n_jobs=-1, num_leaves=31, objective=None,\n",
              "               random_state=None, reg_alpha=0.0, reg_lambda=0.0, silent=True,\n",
              "               subsample=1.0, subsample_for_bin=200000, subsample_freq=0)"
            ]
          },
          "metadata": {
            "tags": []
          },
          "execution_count": 129
        }
      ]
    },
    {
      "cell_type": "code",
      "metadata": {
        "id": "tjR9mgv-RxNr"
      },
      "source": [
        "params = {'boosting_type': 'gbdt',\n",
        "          'max_depth' : -1,\n",
        "          'objective': 'binary',\n",
        "          'nthread': 3,\n",
        "          'num_leaves': 64,\n",
        "          'learning_rate': 0.05,\n",
        "          'max_bin': 512,\n",
        "          'subsample_for_bin': 200,\n",
        "          'subsample': 1,\n",
        "          'subsample_freq': 1,\n",
        "          'colsample_bytree': 0.8,\n",
        "          'reg_alpha': 5,\n",
        "          'reg_lambda': 10,\n",
        "          'min_split_gain': 0.5,\n",
        "          'min_child_weight': 1,\n",
        "          'min_child_samples': 5,\n",
        "          'scale_pos_weight': 1,\n",
        "          'num_class' : 1,\n",
        "          'metric' : 'binary_error'}\n",
        "\n",
        "# Create parameters to search\n",
        "gridParams = {\n",
        "    'learning_rate': [0.5, 0.005],\n",
        "    'n_estimators': [40, 200, 1000],\n",
        "    'num_leaves': [5, 10, 15],\n",
        "    'boosting_type' : ['gbdt'],\n",
        "    'objective' : ['binary'],\n",
        "    'random_state' : [501], \n",
        "    'colsample_bytree' : [0.66],\n",
        "    'subsample' : [0.75],\n",
        "    'reg_alpha' : [1,1.2],\n",
        "    'reg_lambda' : [1,1.4],\n",
        "    }\n",
        "\n",
        "# Create classifier to use\n",
        "mdl = lgb.LGBMClassifier(boosting_type= 'gbdt',\n",
        "          objective = 'auc',\n",
        "          n_jobs = 3, \n",
        "          silent = True,\n",
        "          max_depth = params['max_depth'],\n",
        "          max_bin = params['max_bin'],\n",
        "          subsample_for_bin = params['subsample_for_bin'],\n",
        "          subsample = params['subsample'],\n",
        "          subsample_freq = params['subsample_freq'],\n",
        "          min_split_gain = params['min_split_gain'],\n",
        "          min_child_weight = params['min_child_weight'],\n",
        "          min_child_samples = params['min_child_samples'],\n",
        "          scale_pos_weight = params['scale_pos_weight'])"
      ],
      "execution_count": 130,
      "outputs": []
    },
    {
      "cell_type": "code",
      "metadata": {
        "colab": {
          "base_uri": "https://localhost:8080/"
        },
        "id": "STpJJ8F0R0IL",
        "outputId": "baa566f0-ef89-4416-fa67-69fe61547879"
      },
      "source": [
        "grid = GridSearchCV(mdl, gridParams,\n",
        "                    verbose=3,\n",
        "                    cv=4,\n",
        "                    n_jobs=2)\n",
        "# Run the grid\n",
        "grid.fit(traiin.drop('dep_delayed_15min', axis=1), traiin.dep_delayed_15min)"
      ],
      "execution_count": 131,
      "outputs": [
        {
          "output_type": "stream",
          "text": [
            "Fitting 4 folds for each of 72 candidates, totalling 288 fits\n"
          ],
          "name": "stdout"
        },
        {
          "output_type": "stream",
          "text": [
            "[Parallel(n_jobs=2)]: Using backend LokyBackend with 2 concurrent workers.\n",
            "[Parallel(n_jobs=2)]: Done  28 tasks      | elapsed:    9.4s\n",
            "[Parallel(n_jobs=2)]: Done 124 tasks      | elapsed:  3.9min\n",
            "[Parallel(n_jobs=2)]: Done 284 tasks      | elapsed: 12.8min\n",
            "[Parallel(n_jobs=2)]: Done 288 out of 288 | elapsed: 13.4min finished\n"
          ],
          "name": "stderr"
        },
        {
          "output_type": "execute_result",
          "data": {
            "text/plain": [
              "GridSearchCV(cv=4, error_score=nan,\n",
              "             estimator=LGBMClassifier(boosting_type='gbdt', class_weight=None,\n",
              "                                      colsample_bytree=1.0,\n",
              "                                      importance_type='split',\n",
              "                                      learning_rate=0.1, max_bin=512,\n",
              "                                      max_depth=-1, min_child_samples=5,\n",
              "                                      min_child_weight=1, min_split_gain=0.5,\n",
              "                                      n_estimators=100, n_jobs=3, num_leaves=31,\n",
              "                                      objective='auc', random_state=None,\n",
              "                                      reg_alpha=0.0, reg_lambda=0.0,\n",
              "                                      sca...\n",
              "             iid='deprecated', n_jobs=2,\n",
              "             param_grid={'boosting_type': ['gbdt'], 'colsample_bytree': [0.66],\n",
              "                         'learning_rate': [0.5, 0.005],\n",
              "                         'n_estimators': [40, 200, 1000],\n",
              "                         'num_leaves': [5, 10, 15], 'objective': ['binary'],\n",
              "                         'random_state': [501], 'reg_alpha': [1, 1.2],\n",
              "                         'reg_lambda': [1, 1.4], 'subsample': [0.75]},\n",
              "             pre_dispatch='2*n_jobs', refit=True, return_train_score=False,\n",
              "             scoring=None, verbose=3)"
            ]
          },
          "metadata": {
            "tags": []
          },
          "execution_count": 131
        }
      ]
    },
    {
      "cell_type": "code",
      "metadata": {
        "id": "AVGR6zEjR3iP",
        "colab": {
          "base_uri": "https://localhost:8080/"
        },
        "outputId": "1af1435a-60aa-476c-be8c-5358fe53541c"
      },
      "source": [
        "grid.best_params_"
      ],
      "execution_count": 132,
      "outputs": [
        {
          "output_type": "execute_result",
          "data": {
            "text/plain": [
              "{'boosting_type': 'gbdt',\n",
              " 'colsample_bytree': 0.66,\n",
              " 'learning_rate': 0.5,\n",
              " 'n_estimators': 200,\n",
              " 'num_leaves': 10,\n",
              " 'objective': 'binary',\n",
              " 'random_state': 501,\n",
              " 'reg_alpha': 1.2,\n",
              " 'reg_lambda': 1.4,\n",
              " 'subsample': 0.75}"
            ]
          },
          "metadata": {
            "tags": []
          },
          "execution_count": 132
        }
      ]
    },
    {
      "cell_type": "code",
      "metadata": {
        "id": "dK-Hz5fMSHgx",
        "colab": {
          "base_uri": "https://localhost:8080/"
        },
        "outputId": "3e67cca6-c6d7-4141-80b6-1090604aa078"
      },
      "source": [
        "gbm = lgb.LGBMClassifier(**grid.best_params_)\n",
        "gbm.fit(X_train, y_train)\n",
        "\n",
        "y_pred = gbm.predict(X_test)\n",
        "gbm.score(X_test, y_test)"
      ],
      "execution_count": 133,
      "outputs": [
        {
          "output_type": "execute_result",
          "data": {
            "text/plain": [
              "0.8208787878787879"
            ]
          },
          "metadata": {
            "tags": []
          },
          "execution_count": 133
        }
      ]
    },
    {
      "cell_type": "code",
      "metadata": {
        "colab": {
          "base_uri": "https://localhost:8080/"
        },
        "id": "rw6Vji1M7y05",
        "outputId": "15ae9cee-44fa-4eb0-99ce-0fea5b9cc160"
      },
      "source": [
        "roc_auc_score(y_test, gbm.predict_proba(X_test)[:, 1])"
      ],
      "execution_count": 134,
      "outputs": [
        {
          "output_type": "execute_result",
          "data": {
            "text/plain": [
              "0.7365189913091592"
            ]
          },
          "metadata": {
            "tags": []
          },
          "execution_count": 134
        }
      ]
    },
    {
      "cell_type": "markdown",
      "metadata": {
        "id": "x9ZeHQbshvqJ"
      },
      "source": [
        "**Criando Arquivo de Submissão - ULTIMA COISA!** \n",
        "\n",
        "E pra submeter um csv do resultado do prediction por cima do df de teste"
      ]
    },
    {
      "cell_type": "code",
      "metadata": {
        "id": "o41cxAeXqKe-"
      },
      "source": [
        "pred = model.predict_proba(test)[:, 1]\n",
        "pd.Series(pred, name='dep_delayed_15min').to_csv('submission_gbdt9.csv', index_label='id', header=True)"
      ],
      "execution_count": 141,
      "outputs": []
    },
    {
      "cell_type": "code",
      "metadata": {
        "colab": {
          "base_uri": "https://localhost:8080/"
        },
        "id": "-lyRW_vtBUId",
        "outputId": "03761963-8b32-42e7-9ae7-f6d0110f2f63"
      },
      "source": [
        "X_test.shape"
      ],
      "execution_count": 136,
      "outputs": [
        {
          "output_type": "execute_result",
          "data": {
            "text/plain": [
              "(33000, 8)"
            ]
          },
          "metadata": {
            "tags": []
          },
          "execution_count": 136
        }
      ]
    },
    {
      "cell_type": "markdown",
      "metadata": {
        "id": "yNdzxMlobKai"
      },
      "source": [
        "teste "
      ]
    },
    {
      "cell_type": "code",
      "metadata": {
        "id": "6kNw_tLhiw1C"
      },
      "source": [
        "#Confusion matrix\n",
        "\n",
        "#cm = confusion_matrix(y_test, predictions)\n",
        "#Accuracy\n",
        "\n",
        "#accuracy=accuracy_score(predictions,y_test)"
      ],
      "execution_count": 137,
      "outputs": []
    },
    {
      "cell_type": "code",
      "metadata": {
        "id": "L45QUQD0JOQm"
      },
      "source": [
        "#param_test2 = {'n_estimators':range(20,81,10)}\n",
        "#gsearch1 = GridSearchCV(estimator = GradientBoostingClassifier(learning_rate=0.1, min_samples_split=500,min_samples_leaf=50,max_depth=8,max_features='sqrt',subsample=0.8,random_state=10), \n",
        "#param_grid = param_test2, scoring='roc_auc',n_jobs=4,iid=False, cv=5)\n",
        "#gsearch1.fit(X_train,y_train)"
      ],
      "execution_count": 138,
      "outputs": []
    },
    {
      "cell_type": "code",
      "metadata": {
        "id": "Nl4XewURLJsV"
      },
      "source": [
        "#model = ensemble.GradientBoostingClassifier (**gsearch1.best_params_)\n",
        "\n",
        "#model.fit(X_train, y_train)"
      ],
      "execution_count": 139,
      "outputs": []
    },
    {
      "cell_type": "code",
      "metadata": {
        "id": "1PdiDWpULsNn"
      },
      "source": [
        "#print(f\"Accuracy: {accuracy_score(predictions, y_test)}\")\n",
        "#print(\"Confusion Matrix:\")\n",
        "#print(confusion_matrix(predictions, y_test))\n",
        "#print(f\"Roc score: {roc_auc_score(y_test, model.predict_proba(X_test)[:, 1])}\")"
      ],
      "execution_count": 140,
      "outputs": []
    }
  ]
}